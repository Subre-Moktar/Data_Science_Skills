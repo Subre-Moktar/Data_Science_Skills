{
 "cells": [
  {
   "cell_type": "code",
   "execution_count": 181,
   "metadata": {},
   "outputs": [],
   "source": [
    "# Imports for data analysis and plotting\n",
    "import os\n",
    "# Getting The Dataset\n",
    "import kagglehub\n",
    "# Table\n",
    "import pandas as pd\n",
    "# Plotting\n",
    "import seaborn as sns\n",
    "import matplotlib.pyplot as plt\n",
    "from matplotlib.ticker import MaxNLocator\n",
    "# Encoding\n",
    "import chardet\n"
   ]
  },
  {
   "cell_type": "code",
   "execution_count": 184,
   "metadata": {},
   "outputs": [],
   "source": [
    "os.chdir(\"C:\")"
   ]
  },
  {
   "cell_type": "code",
   "execution_count": 185,
   "metadata": {},
   "outputs": [
    {
     "name": "stdout",
     "output_type": "stream",
     "text": [
      "Path to dataset files: C:\\Users\\subre\\.cache\\kagglehub\\datasets\\shuvokumarbasak2030\\drug-pharma-new-dataset\\versions\\1\n"
     ]
    }
   ],
   "source": [
    "# Download latest version of the kaggle dataset\n",
    "path = kagglehub.dataset_download(\"shuvokumarbasak2030/drug-pharma-new-dataset\")\n",
    "print(\"Path to dataset files:\", path)"
   ]
  },
  {
   "cell_type": "code",
   "execution_count": 207,
   "metadata": {},
   "outputs": [
    {
     "name": "stdout",
     "output_type": "stream",
     "text": [
      "Detected Encoding for Homeopathic: ISO-8859-1 (Confidence: 0.73)\n"
     ]
    }
   ],
   "source": [
    "# Different encoding and figuring out which encoding needed for the csv file\n",
    "\n",
    "with open(f\"{path}\\dgda_drug_database_data\\csv_all_drug_file\\Homeopathic_Drug_Database.csv\", \"rb\") as f:\n",
    "    raw_data = f.read(1000000)\n",
    "\n",
    "result = chardet.detect(raw_data)\n",
    "print(f\"Detected Encoding for Homeopathic: {result['encoding']} (Confidence: {result['confidence']})\")"
   ]
  },
  {
   "cell_type": "code",
   "execution_count": 209,
   "metadata": {},
   "outputs": [],
   "source": [
    "# Reading all the csv files into their own dataframes\n",
    "Allopathic = pd.read_csv(f\"{path}\\dgda_drug_database_data\\csv_all_drug_file\\Allopathic_Drug_Database.csv\")\n",
    "Ayurvedic = pd.read_csv(f\"{path}\\dgda_drug_database_data\\csv_all_drug_file\\Ayurvedic_Drug_Database.csv\")\n",
    "Herbal = pd.read_csv(f\"{path}\\dgda_drug_database_data\\csv_all_drug_file\\Herbal_Drug_Database.csv\")\n",
    "Homeopathic = pd.read_csv(f\"{path}\\dgda_drug_database_data\\csv_all_drug_file\\Homeopathic_Drug_Database.csv\", encoding = \"ISO-8859-1\")\n",
    "Unani = pd.read_csv(f\"{path}\\dgda_drug_database_data\\csv_all_drug_file\\\\Unani_Drug_Database.csv\")"
   ]
  },
  {
   "cell_type": "code",
   "execution_count": 210,
   "metadata": {},
   "outputs": [],
   "source": [
    "# A function to create a new mapping from a previous string\n",
    "def categorize(old,mapping) -> str:\n",
    "    '''\n",
    "    Returns the new mapping of a string\n",
    "\n",
    "    Args:\n",
    "        old: the old mapping we used\n",
    "        mapping: the mapping we want to apply to the dataframe column\n",
    "    \n",
    "    Returns:\n",
    "        The new mapping unless we haven't specified\n",
    "    '''\n",
    "\n",
    "    for new_category, old_category in mapping.items():\n",
    "        if old in old_category:\n",
    "            return new_category\n",
    "    return \"Unknown\""
   ]
  },
  {
   "cell_type": "code",
   "execution_count": 211,
   "metadata": {},
   "outputs": [],
   "source": [
    "# There are 143 unique Dosages Descriptions will try to combine all of them into less categories\n",
    "\n",
    "# dosages_descrp = Allopathic[\"Dosages Description\"].unique()\n",
    "# print(dosages_descrp)\n",
    "\n",
    "# Found a spelling error\n",
    "#print(Allopathic[\"Dosages Description\"].where(Allopathic[\"Dosages Description\"] == 'Solution Fo Root Cannel').dropna())\n",
    "Allopathic.loc[35211, 'Dosages Description'] = 'Solution For Root Cannel'\n",
    "\n",
    "# Mapping I created by AI to help map all 143 unique dosage descriptions. There also seems to be some overlap left by the AI\n",
    "# since it wasn't descriptive enough for it. I Left it alone since I do have a lack in knowledge about medical science.\n",
    "# Although I will say This definitly needs to be fixed, Since Ai definitly made mistakes that I notice easily like Syringe being\n",
    "# under oral. I did fix some of them but it would take too long, and I didnt want to fully focus on this.\n",
    "category_map = {\n",
    "    'Oral Dosage': [\n",
    "        'Tablet', 'Capsule', 'Syrup', 'Oral Solution', 'Oral Suspension', 'Oral Gel', 'Chewable Tablet', 'Oral Powder',\n",
    "        'Oral Liquid', 'Oral Emulsion', 'Sachet', 'Sached Powder', 'Paediatric Drops', 'Oral Saline', 'Oral Paste',\n",
    "        'Oral Drops', 'Granules For Suspension', 'Mups Tablet', 'Dispersible Tablet', 'Orodispersible Tablet',\n",
    "        'Oral Soluble Film', 'Effervescent Tablet', 'Mouth Dissolving Tablet', 'Effervescent Granules', 'Powder for Pedriatric Drop',\n",
    "        'Powder for Solution', 'Oral Granules', 'Powder For Oral Solution', 'Mouth Wash Antiseptic', 'Oral Dental Gel',\n",
    "        'Rapid Tablet', 'Elixir', 'Linctus', 'Mouth Wash', 'Syringe', 'Powder For Suspension',\n",
    "        'Extended Release Capsule', 'Er Capsule', 'Cr Capsule', 'Md Tablet', 'Water Soluble Powder'\n",
    "    ],\n",
    "    'Topical Dosage': [\n",
    "        'Lotion', 'Cream', 'Ointment', 'Gel', 'Emulsion', 'Topical Solution', 'Vaginal Cream', 'Eye Ointment',\n",
    "        'Scalp Lotion', 'Scalp Ointment', 'Eye Gel', 'Vaginal Gel', 'Vaginal Suppository', 'Rectal Ointment',\n",
    "        'Topical Suspension', 'Eye & Nasal Drops', 'Eye Cleanser Solution', 'Eye and Ear Ointment', 'Shampoo'\n",
    "    ],\n",
    "    'Injectable Dosage': [\n",
    "        'IV Infusion', 'IV Injection', 'IM Injection', 'Injection', 'Solution for Injection', 'Solution For Infusion',\n",
    "        'Solution For Injection', 'Water For Injection', 'Dialysis Solution', 'IV/IM Injection'\n",
    "    ],\n",
    "    'Inhalation Dosage': [\n",
    "        'Inhaler', 'Aerosol Inhalation', 'Inhalation Solution', 'Dry Powder Inhaler', 'Nebuliser Solution',\n",
    "        'Nebuliser Suspension', 'Inhalation Liquid', 'Metered Dose Inhaler', 'Hfa Inhaler', 'Inhalation Aerosol',\n",
    "        'Inhalation Capsule', 'Respirator Suspension'\n",
    "    ],\n",
    "    'Other Dosage': [\n",
    "        'Suspension', 'Bolus', 'Powder for Suspension', 'Suspension', 'Drops', 'Tincture', 'Implant', 'Mouth Wash',\n",
    "        'Suppository', 'Eye and Ear Drops', 'Eye Drops', 'Gargle & Mouth Wash', 'Vaginal Tablet', 'Dr Tablet', 'Cozycap',\n",
    "        'Dispersible Tablet', 'Dr Granules For Suspension', 'Soft Gelatin Capsule', 'Pr Tablet', 'Er Tablet', 'Cr Tablet',\n",
    "        'Xr Tablet', 'Ors Tablet', 'Sr Tablet', 'Sr Capsule', 'Odt Tablet', 'Mups Tablet', 'Vaginal Pessary', 'Spray',\n",
    "        'Nasal Spray', 'Nasal Drops', 'Sprinkle Capsule', 'M R Capsule', 'M R Tablet', 'Root Canal Agent', 'Canal Irrigation',\n",
    "        'Solution For Root Cannel', 'Repacking', 'Eye Solution', 'Per Rectal', 'Blood bag', 'Pvc Bag',\n",
    "        'Needle for Syringe', 'Butterfly', 'Gas', 'Scrub', 'Blood Tubing Set', 'Eye Solution', 'Viscoelastic Solution',\n",
    "        'Cervical Gel', 'Gum', 'Pellets', 'Raw Materials', 'Irrigation Solution', 'Pellets For Suspension',\n",
    "        'Ear Drop', 'Ophthalmic Emulsion', 'Resperitory Solution', 'Emulgel', 'Combipack', 'Delayed Release Capsule',\n",
    "        'Ear Spray', 'Mouth Wash Antiseptic', 'Water Soluble Powder', 'Pour On (Solution)', 'Hand Rub', 'Eye, Ear & Nasal Drops'\n",
    "    ],\n",
    "    'Unknown': [\n",
    "        'Unknown', 'Other', 'Miscellaneous', 'Not Specified', 'Liquid', 'Solution', 'Gas', 'Powder'\n",
    "    ]\n",
    "}\n",
    "\n",
    "\n",
    "# Creation of a new column that concatenates the dosage description\n",
    "Allopathic[\"Dosages_Description_Concate\"] = Allopathic[\"Dosages Description\"].apply(categorize, args = (category_map,))"
   ]
  },
  {
   "cell_type": "code",
   "execution_count": 212,
   "metadata": {},
   "outputs": [
    {
     "data": {
      "text/plain": [
       "array(['Solution', 'Powder', 'Liquid'], dtype=object)"
      ]
     },
     "execution_count": 212,
     "metadata": {},
     "output_type": "execute_result"
    }
   ],
   "source": [
    "temp = Allopathic.where(Allopathic['Dosages_Description_Concate'] == \"Unknown\").dropna()\n",
    "temp[\"Dosages Description\"].unique()"
   ]
  },
  {
   "cell_type": "code",
   "execution_count": 213,
   "metadata": {},
   "outputs": [
    {
     "data": {
      "image/png": "[encoded data removed]",
      "text/plain": [
       "<Figure size 640x480 with 1 Axes>"
      ]
     },
     "metadata": {},
     "output_type": "display_data"
    },
    {
     "data": {
      "image/png": "[encoded data removed]",
      "text/plain": [
       "<Figure size 640x480 with 1 Axes>"
      ]
     },
     "metadata": {},
     "output_type": "display_data"
    },
    {
     "data": {
      "image/png": "[encoded data removed]",
      "text/plain": [
       "<Figure size 640x480 with 1 Axes>"
      ]
     },
     "metadata": {},
     "output_type": "display_data"
    },
    {
     "data": {
      "image/png": "[encoded data removed]",
      "text/plain": [
       "<Figure size 640x480 with 1 Axes>"
      ]
     },
     "metadata": {},
     "output_type": "display_data"
    }
   ],
   "source": [
    "# Unique colors for each description\n",
    "custom_colors = {\n",
    "    'Oral Dosage': '#FF6347',\n",
    "    'Topical Dosage': '#4682B4',\n",
    "    'Injectable Dosage': '#32CD32',\n",
    "    'Inhalation Dosage': '#FFD700',\n",
    "    'Other Dosage': '#8A2BE2',\n",
    "    'Unknown' : '#DC143C'\n",
    "}\n",
    "\n",
    "# Plots a stacked histogram for Allopathic\n",
    "plot = sns.histplot(Allopathic, x='Use For', hue = \"Dosages_Description_Concate\", stat = 'count',multiple = \"stack\", palette = custom_colors)\n",
    "sns.move_legend(plot, \"upper left\", bbox_to_anchor=(1, 1))\n",
    "plt.title(\"Allopathic\")\n",
    "plt.show()\n",
    "\n",
    "# Creates a new graph for each category in Use for (Human, vets, and R) for more readablilty\n",
    "for category in Allopathic['Use For'].unique():\n",
    "    Allopathic_unique = Allopathic[Allopathic[\"Use For\"] == category]\n",
    "    plot = sns.histplot(Allopathic_unique, x = 'Dosages_Description_Concate', hue = \"Dosages_Description_Concate\", stat = 'count', palette = custom_colors)\n",
    "    sns.move_legend(plot, \"upper left\", bbox_to_anchor=(1, 1))\n",
    "    plt.title(f'Allopathic: Graph for {category}')\n",
    "    plt.xticks(rotation = 45, ha = 'right')\n",
    "    plt.gca().yaxis.set_major_locator(MaxNLocator(integer=True))\n",
    "\n",
    "    plt.show()\n",
    "\n",
    "# Making multiple graphs for use for but less readable than above\n",
    "# hist_multi= sns.displot(Allopathic, x = 'Dosages_Description_Concate', col = 'Use For', hue = \"Dosages_Description_Concate\" ,palette = custom_colors)\n",
    "# for ax in hist_multi.axes.flat:\n",
    "#     ax.set_xticks(ax.get_xticks())\n",
    "#     ax.set_xticklabels(ax.get_xticklabels(), rotation = 45, ha = 'right')\n",
    "\n",
    "# plt.show()"
   ]
  },
  {
   "cell_type": "markdown",
   "metadata": {},
   "source": [
    "Use For: The medical use or indication of the drug (e.g., pain relief, antibiotics, etc.) - From the Kaggle Website\n",
    "\n",
    "Human -\n",
    "Huge ammounts of orally taken medication.\n",
    "It does seem like only humans have the inhallation dosage in this portion of the dataset.\n",
    "\n",
    "Veterinary - \n",
    "It seems to have a lot of unknown which is : Solution, Powder, Liquid. Would probably need more understanding for which one does what for the specific medicine.\n",
    "The other dosage seems to be high although that could be a failure on my part for the data cleaning.\n",
    "\n",
    "R - \n",
    "I believe this is supposed to repersent relief medication, after looking at some and what the kaggle website says."
   ]
  },
  {
   "cell_type": "code",
   "execution_count": 19,
   "metadata": {},
   "outputs": [
    {
     "data": {
      "application/vnd.microsoft.datawrangler.viewer.v0+json": {
       "columns": [
        {
         "name": "index",
         "rawType": "int64",
         "type": "integer"
        },
        {
         "name": "SL",
         "rawType": "int64",
         "type": "integer"
        },
        {
         "name": "Name of the Manufacturer",
         "rawType": "object",
         "type": "string"
        },
        {
         "name": "Brand Name",
         "rawType": "object",
         "type": "string"
        },
        {
         "name": "Dosages Description",
         "rawType": "object",
         "type": "string"
        },
        {
         "name": "Generic Name and Strength",
         "rawType": "object",
         "type": "string"
        },
        {
         "name": "DAR",
         "rawType": "object",
         "type": "string"
        }
       ],
       "conversionMethod": "pd.DataFrame",
       "ref": "42951cb1-6dee-4158-8c15-0f0cecaceb19",
       "rows": [
        [
         "0",
         "1",
         "A B Laboratories (Ayurvedic)",
         "Gasmo",
         "Capsule",
         "Amlapittantak Churna",
         "AY-46-A-034"
        ],
        [
         "1",
         "2",
         "A B Laboratories (Ayurvedic)",
         "Espec",
         "Capsule",
         "Echinacea",
         "AY-46-A-035"
        ],
        [
         "2",
         "3",
         "A B Laboratories (Ayurvedic)",
         "Ruchirise",
         "Capsule",
         "Ginger",
         "AY-46-A-036"
        ],
        [
         "3",
         "4",
         "A B Laboratories (Ayurvedic)",
         "Centac",
         "Capsule",
         "Thankuni",
         "AY-46-A-037"
        ],
        [
         "4",
         "5",
         "A B Laboratories (Ayurvedic)",
         "Travil",
         "Capsule",
         "Devil's Claw",
         "AY-46-A-038"
        ],
        [
         "5",
         "6",
         "A B Laboratories (Ayurvedic)",
         "Capsical",
         "Capsule",
         "Capsicum / Cayeni",
         "AY-46-A-039"
        ],
        [
         "6",
         "7",
         "A B Laboratories (Ayurvedic)",
         "Libix",
         "Capsule",
         "Cowhage",
         "AY-46-A-040"
        ],
        [
         "7",
         "8",
         "A B Laboratories (Ayurvedic)",
         "Prevail",
         "Capsule",
         "Ashwagandha",
         "AY-46-A-041"
        ],
        [
         "8",
         "9",
         "A B Laboratories (Ayurvedic)",
         "Nervorise",
         "Liquid",
         "Sanjivani Rasayan",
         "AY-46-A-006"
        ],
        [
         "9",
         "10",
         "A B Laboratories (Ayurvedic)",
         "Roti Gold",
         "Capsule",
         "Ratibilas Bati",
         "AY-46-A-007"
        ],
        [
         "10",
         "11",
         "A B Laboratories (Ayurvedic)",
         "Gaslow",
         "Capsule",
         "Amlapittantak Ras",
         "AY-46-A-008"
        ],
        [
         "11",
         "12",
         "A B Laboratories (Ayurvedic)",
         "Skinuza Plus",
         "Capsule",
         "Nimbadi Churna",
         "AY-46-A-009"
        ],
        [
         "12",
         "13",
         "A B Laboratories (Ayurvedic)",
         "Arthronil",
         "Capsule",
         "Nagendra Bati",
         "AY-46-A-010"
        ],
        [
         "13",
         "14",
         "A B Laboratories (Ayurvedic)",
         "Livoup",
         "Capsule",
         "Jakridari Louha",
         "AY-46-A-011"
        ],
        [
         "14",
         "15",
         "A B Laboratories (Ayurvedic)",
         "Urisafe",
         "Capsule",
         "Chandanadi Churna",
         "AY-46-A-012"
        ],
        [
         "15",
         "16",
         "A B Laboratories (Ayurvedic)",
         "Lofat",
         "Capsule",
         "Barabagni Ras",
         "AY-46-A-013"
        ],
        [
         "16",
         "17",
         "A B Laboratories (Ayurvedic)",
         "Livorise",
         "Liquid",
         "Rohitakarista",
         "AY-46-A-014"
        ],
        [
         "17",
         "18",
         "A B Laboratories (Ayurvedic)",
         "Jubo Plus",
         "Capsule",
         "Joubansatadal",
         "AY-46-A-015"
        ],
        [
         "18",
         "19",
         "A B Laboratories (Ayurvedic)",
         "Nonsolin",
         "Capsule",
         "Basanta Kusumakar Ras",
         "AY-46-A-016"
        ],
        [
         "19",
         "20",
         "A B Laboratories (Ayurvedic)",
         "Asthomit",
         "Capsule",
         "Swaskaschintamoni",
         "AY-46-A-017"
        ],
        [
         "20",
         "21",
         "A B Laboratories (Ayurvedic)",
         "Dysonil",
         "Capsule",
         "Maharaj Nripatiballiav",
         "AY-46-A-018"
        ],
        [
         "21",
         "22",
         "A B Laboratories (Ayurvedic)",
         "Diablex",
         "Liquid",
         "Jambadyarista",
         "AY-46-A-019"
        ],
        [
         "22",
         "23",
         "A B Laboratories (Ayurvedic)",
         "Precoder",
         "Oil (Liquid)",
         "Shri Gopal Taila",
         "AY-46-A-020"
        ],
        [
         "23",
         "24",
         "A B Laboratories (Ayurvedic)",
         "AB Cid",
         "Liquid",
         "Amalaki Rasayan",
         "AY-46-A-021"
        ],
        [
         "24",
         "25",
         "A B Laboratories (Ayurvedic)",
         "Spermex",
         "Semi-Solid",
         "Sukrasanjibani Modak",
         "AY-46-A-022"
        ],
        [
         "25",
         "26",
         "A B Laboratories (Ayurvedic)",
         "Memo Care",
         "Capsule",
         "Saraswata Churna",
         "AY-46-A-023"
        ],
        [
         "26",
         "27",
         "A B Laboratories (Ayurvedic)",
         "Whitenil",
         "Capsule",
         "Pushyanugn Churna",
         "AY-46-A-024"
        ],
        [
         "27",
         "28",
         "A B Laboratories (Ayurvedic)",
         "Pylo-9",
         "Capsule",
         "Arshahara Bati",
         "AY-46-A-025"
        ],
        [
         "28",
         "29",
         "A B Laboratories (Ayurvedic)",
         "Zymosafe",
         "Liquid",
         "Mustakarista",
         "AY-46-A-001"
        ],
        [
         "29",
         "30",
         "A B Laboratories (Ayurvedic)",
         "AB Card",
         "Liquid",
         "Arjunarista",
         "AY-46-A-002"
        ],
        [
         "30",
         "31",
         "A B Laboratories (Ayurvedic)",
         "AB-Balarist",
         "Liquid",
         "Balarista",
         "AY-46-A-003"
        ],
        [
         "31",
         "32",
         "A B Laboratories (Ayurvedic)",
         "AB Cough",
         "Liquid",
         "Draksharista",
         "AY-46-A-004"
        ],
        [
         "32",
         "33",
         "A B Laboratories (Ayurvedic)",
         "Femisafe",
         "Liquid",
         "Ashokarista",
         "AY-46-A-005"
        ],
        [
         "33",
         "34",
         "A B Laboratories (Ayurvedic)",
         "Slinoba",
         "Capsule",
         "Neem",
         "AY-46-A-043"
        ],
        [
         "34",
         "35",
         "A B Laboratories (Ayurvedic)",
         "Diamo",
         "Capsule",
         "Jambolan / Syzygium",
         "AY-46-A-044"
        ],
        [
         "35",
         "36",
         "A B Laboratories (Ayurvedic)",
         "Flatlo",
         "Capsule",
         "Kurchi",
         "AY-46-A-045"
        ],
        [
         "36",
         "37",
         "A B Laboratories (Ayurvedic)",
         "Heparise",
         "Capsule",
         "Kalamegh",
         "AY-46-A-046"
        ],
        [
         "37",
         "38",
         "A B Laboratories (Ayurvedic)",
         "Aslab",
         "Capsule",
         "Astragalus",
         "AY-46-A-042"
        ],
        [
         "38",
         "39",
         "A B Laboratories (Ayurvedic)",
         "Tinocor",
         "Liquid",
         "Amritarista",
         "AY-46-A-047"
        ],
        [
         "39",
         "40",
         "A B Laboratories (Ayurvedic)",
         "AB Digenor",
         "Liquid",
         "Jirakadyarista / Jirakarista",
         "AY-46-A-048"
        ],
        [
         "40",
         "41",
         "A B Laboratories (Ayurvedic)",
         "Licum",
         "Capsule",
         "Garlic",
         "AY-46-A-049"
        ],
        [
         "41",
         "42",
         "A B Laboratories (Ayurvedic)",
         "Eczemin",
         "Ointment",
         "Dadru Dalan",
         "AY-46-A-050"
        ],
        [
         "42",
         "43",
         "A B Laboratories (Ayurvedic)",
         "Tornyl",
         "Ointment",
         "Batrakhashi Taila",
         "AY-46-A-051"
        ],
        [
         "43",
         "44",
         "A B Laboratories (Ayurvedic)",
         "Pectin",
         "Capsule",
         "Pomegranate",
         "AY-46-A-052"
        ],
        [
         "44",
         "45",
         "A B Laboratories (Ayurvedic)",
         "Helen",
         "Capsule",
         "Water Cress",
         "AY-46-A-053"
        ],
        [
         "45",
         "46",
         "A B Laboratories (Ayurvedic)",
         "Edebo",
         "Capsule",
         "Punarnava",
         "AY-46-A-054"
        ],
        [
         "46",
         "47",
         "A B Laboratories (Ayurvedic)",
         "Marmel",
         "Semi-Solid",
         "Chyabanprash",
         "AY-46-A-055"
        ],
        [
         "47",
         "48",
         "A B Laboratories (Ayurvedic)",
         "Mehonil",
         "Liquid",
         "Mehabajra Rasayan / Mehari",
         "AY-46-A-026"
        ],
        [
         "48",
         "49",
         "A B Laboratories (Ayurvedic)",
         "Itchicon",
         "Liquid",
         "Saribadyarista",
         "AY-46-A-027"
        ],
        [
         "49",
         "50",
         "A B Laboratories (Ayurvedic)",
         "Urisov",
         "Liquid",
         "Chandanasav",
         "AY-46-A-028"
        ]
       ],
       "shape": {
        "columns": 6,
        "rows": 5262
       }
      },
      "text/html": [
       "<div>\n",
       "<style scoped>\n",
       "    .dataframe tbody tr th:only-of-type {\n",
       "        vertical-align: middle;\n",
       "    }\n",
       "\n",
       "    .dataframe tbody tr th {\n",
       "        vertical-align: top;\n",
       "    }\n",
       "\n",
       "    .dataframe thead th {\n",
       "        text-align: right;\n",
       "    }\n",
       "</style>\n",
       "<table border=\"1\" class=\"dataframe\">\n",
       "  <thead>\n",
       "    <tr style=\"text-align: right;\">\n",
       "      <th></th>\n",
       "      <th>SL</th>\n",
       "      <th>Name of the Manufacturer</th>\n",
       "      <th>Brand Name</th>\n",
       "      <th>Dosages Description</th>\n",
       "      <th>Generic Name and Strength</th>\n",
       "      <th>DAR</th>\n",
       "    </tr>\n",
       "  </thead>\n",
       "  <tbody>\n",
       "    <tr>\n",
       "      <th>0</th>\n",
       "      <td>1</td>\n",
       "      <td>A B Laboratories (Ayurvedic)</td>\n",
       "      <td>Gasmo</td>\n",
       "      <td>Capsule</td>\n",
       "      <td>Amlapittantak Churna</td>\n",
       "      <td>AY-46-A-034</td>\n",
       "    </tr>\n",
       "    <tr>\n",
       "      <th>1</th>\n",
       "      <td>2</td>\n",
       "      <td>A B Laboratories (Ayurvedic)</td>\n",
       "      <td>Espec</td>\n",
       "      <td>Capsule</td>\n",
       "      <td>Echinacea</td>\n",
       "      <td>AY-46-A-035</td>\n",
       "    </tr>\n",
       "    <tr>\n",
       "      <th>2</th>\n",
       "      <td>3</td>\n",
       "      <td>A B Laboratories (Ayurvedic)</td>\n",
       "      <td>Ruchirise</td>\n",
       "      <td>Capsule</td>\n",
       "      <td>Ginger</td>\n",
       "      <td>AY-46-A-036</td>\n",
       "    </tr>\n",
       "    <tr>\n",
       "      <th>3</th>\n",
       "      <td>4</td>\n",
       "      <td>A B Laboratories (Ayurvedic)</td>\n",
       "      <td>Centac</td>\n",
       "      <td>Capsule</td>\n",
       "      <td>Thankuni</td>\n",
       "      <td>AY-46-A-037</td>\n",
       "    </tr>\n",
       "    <tr>\n",
       "      <th>4</th>\n",
       "      <td>5</td>\n",
       "      <td>A B Laboratories (Ayurvedic)</td>\n",
       "      <td>Travil</td>\n",
       "      <td>Capsule</td>\n",
       "      <td>Devil's Claw</td>\n",
       "      <td>AY-46-A-038</td>\n",
       "    </tr>\n",
       "    <tr>\n",
       "      <th>...</th>\n",
       "      <td>...</td>\n",
       "      <td>...</td>\n",
       "      <td>...</td>\n",
       "      <td>...</td>\n",
       "      <td>...</td>\n",
       "      <td>...</td>\n",
       "    </tr>\n",
       "    <tr>\n",
       "      <th>5257</th>\n",
       "      <td>5258</td>\n",
       "      <td>Zeni Ayurvedic Laboratories</td>\n",
       "      <td>Z-AD</td>\n",
       "      <td>Tablet</td>\n",
       "      <td>Krimi Mudgar Ras</td>\n",
       "      <td>AY-117-A-022</td>\n",
       "    </tr>\n",
       "    <tr>\n",
       "      <th>5258</th>\n",
       "      <td>5259</td>\n",
       "      <td>Zeni Ayurvedic Laboratories</td>\n",
       "      <td>Z-Leucon</td>\n",
       "      <td>Tablet</td>\n",
       "      <td>Pradarantak Louha</td>\n",
       "      <td>AY-117-A-023</td>\n",
       "    </tr>\n",
       "    <tr>\n",
       "      <th>5259</th>\n",
       "      <td>5260</td>\n",
       "      <td>Zeni Ayurvedic Laboratories</td>\n",
       "      <td>Z-Dia</td>\n",
       "      <td>Tablet</td>\n",
       "      <td>Bahu Mutrantak Ras</td>\n",
       "      <td>AY-117-A-024</td>\n",
       "    </tr>\n",
       "    <tr>\n",
       "      <th>5260</th>\n",
       "      <td>5261</td>\n",
       "      <td>Zeni Ayurvedic Laboratories</td>\n",
       "      <td>Z-Arosis</td>\n",
       "      <td>Tablet</td>\n",
       "      <td>Arshahara Bati</td>\n",
       "      <td>AY-117-A-025</td>\n",
       "    </tr>\n",
       "    <tr>\n",
       "      <th>5261</th>\n",
       "      <td>5262</td>\n",
       "      <td>Zeni Ayurvedic Laboratories</td>\n",
       "      <td>Momtaz Hair Oil</td>\n",
       "      <td>Oil (Liquid)</td>\n",
       "      <td>Mahabhringaraj Taila</td>\n",
       "      <td>AY-117-A-026</td>\n",
       "    </tr>\n",
       "  </tbody>\n",
       "</table>\n",
       "<p>5262 rows × 6 columns</p>\n",
       "</div>"
      ],
      "text/plain": [
       "        SL      Name of the Manufacturer       Brand Name Dosages Description  \\\n",
       "0        1  A B Laboratories (Ayurvedic)            Gasmo             Capsule   \n",
       "1        2  A B Laboratories (Ayurvedic)            Espec             Capsule   \n",
       "2        3  A B Laboratories (Ayurvedic)        Ruchirise             Capsule   \n",
       "3        4  A B Laboratories (Ayurvedic)           Centac             Capsule   \n",
       "4        5  A B Laboratories (Ayurvedic)           Travil             Capsule   \n",
       "...    ...                           ...              ...                 ...   \n",
       "5257  5258   Zeni Ayurvedic Laboratories             Z-AD              Tablet   \n",
       "5258  5259   Zeni Ayurvedic Laboratories         Z-Leucon              Tablet   \n",
       "5259  5260   Zeni Ayurvedic Laboratories            Z-Dia              Tablet   \n",
       "5260  5261   Zeni Ayurvedic Laboratories         Z-Arosis              Tablet   \n",
       "5261  5262   Zeni Ayurvedic Laboratories  Momtaz Hair Oil        Oil (Liquid)   \n",
       "\n",
       "     Generic Name and Strength           DAR  \n",
       "0         Amlapittantak Churna   AY-46-A-034  \n",
       "1                    Echinacea   AY-46-A-035  \n",
       "2                       Ginger   AY-46-A-036  \n",
       "3                     Thankuni   AY-46-A-037  \n",
       "4                 Devil's Claw   AY-46-A-038  \n",
       "...                        ...           ...  \n",
       "5257          Krimi Mudgar Ras  AY-117-A-022  \n",
       "5258         Pradarantak Louha  AY-117-A-023  \n",
       "5259        Bahu Mutrantak Ras  AY-117-A-024  \n",
       "5260            Arshahara Bati  AY-117-A-025  \n",
       "5261      Mahabhringaraj Taila  AY-117-A-026  \n",
       "\n",
       "[5262 rows x 6 columns]"
      ]
     },
     "execution_count": 19,
     "metadata": {},
     "output_type": "execute_result"
    }
   ],
   "source": [
    "Ayurvedic"
   ]
  },
  {
   "cell_type": "code",
   "execution_count": null,
   "metadata": {},
   "outputs": [
    {
     "data": {
      "image/png": "[encoded data removed]",
      "text/plain": [
       "<Figure size 640x480 with 1 Axes>"
      ]
     },
     "metadata": {},
     "output_type": "display_data"
    },
    {
     "data": {
      "image/png": "[encoded data removed]",
      "text/plain": [
       "<Figure size 3000x500 with 6 Axes>"
      ]
     },
     "metadata": {},
     "output_type": "display_data"
    }
   ],
   "source": []
  },
  {
   "cell_type": "code",
   "execution_count": 20,
   "metadata": {},
   "outputs": [
    {
     "data": {
      "application/vnd.microsoft.datawrangler.viewer.v0+json": {
       "columns": [
        {
         "name": "index",
         "rawType": "int64",
         "type": "integer"
        },
        {
         "name": "SL",
         "rawType": "int64",
         "type": "integer"
        },
        {
         "name": "Name of the Manufacturer",
         "rawType": "object",
         "type": "string"
        },
        {
         "name": "Brand Name",
         "rawType": "object",
         "type": "string"
        },
        {
         "name": "Dosages Description",
         "rawType": "object",
         "type": "string"
        },
        {
         "name": "Generic Name and Strength",
         "rawType": "object",
         "type": "string"
        },
        {
         "name": "DAR",
         "rawType": "object",
         "type": "string"
        }
       ],
       "conversionMethod": "pd.DataFrame",
       "ref": "31fe44f1-d4f9-41bf-9a8c-9e6155ed971c",
       "rows": [
        [
         "0",
         "1",
         "Acme Labortories Ltd. (Herbal Division)",
         "Megajoy 75 Tablet",
         "Tablet",
         "Yohimbine Hydrochloride",
         "002-0011-94"
        ],
        [
         "1",
         "2",
         "Acme Labortories Ltd. (Herbal Division)",
         "Orthogen",
         "Tablet",
         "Boron + Boswellia Serrata Extract + Glucosamine Sulfate Potassium Chloride + Undenatured Type II Collagen",
         "002-027-94"
        ],
        [
         "2",
         "3",
         "Acme Labortories Ltd. (Herbal Division)",
         "Disugar",
         "Tablet",
         "Rebaudioside A",
         "002-028-94"
        ],
        [
         "3",
         "4",
         "Acme Labortories Ltd. (Herbal Division)",
         "Moringa",
         "Capsule",
         "Moringa Leaf Powder",
         "002-029-94"
        ],
        [
         "4",
         "5",
         "Acme Labortories Ltd. (Herbal Division)",
         "Platimax",
         "Tablet",
         "Papaya Leaf Extract",
         "002-030-94"
        ],
        [
         "5",
         "6",
         "Acme Labortories Ltd. (Herbal Division)",
         "Folihair 1000",
         "Capsule",
         "Biotin",
         "002-031-94"
        ],
        [
         "6",
         "7",
         "Acme Labortories Ltd. (Herbal Division)",
         "Hepamilk",
         "Capsule",
         "Silymarin",
         "002-016-94"
        ],
        [
         "7",
         "8",
         "Acme Labortories Ltd. (Herbal Division)",
         "Folihair 5000",
         "Capsule",
         "Biotin",
         "002-042-94"
        ],
        [
         "8",
         "9",
         "Acme Labortories Ltd. (Herbal Division)",
         "Acme's Isabgul Powder",
         "Powder",
         "Ispaghula Husk",
         "002-0001-94"
        ],
        [
         "9",
         "10",
         "Acme Labortories Ltd. (Herbal Division)",
         "Menocare 40 mg",
         "Capsule",
         "Black Cohosh",
         "002-0002-94"
        ],
        [
         "10",
         "11",
         "Acme Labortories Ltd. (Herbal Division)",
         "Gingo 40 mg",
         "Tablet",
         "Ginkgo",
         "002-0003-94"
        ],
        [
         "11",
         "12",
         "Acme Labortories Ltd. (Herbal Division)",
         "Hepamilk 87.5 mg",
         "Capsule",
         "Milk Thistle",
         "002-0004-94"
        ],
        [
         "12",
         "13",
         "Acme Labortories Ltd. (Herbal Division)",
         "Acme's Spirulina 450 mg",
         "Capsule",
         "Spirulina",
         "002-0005-94"
        ],
        [
         "13",
         "14",
         "Acme Labortories Ltd. (Herbal Division)",
         "Perkup",
         "Capsule",
         "St. John's Wort",
         "002-0006-94"
        ],
        [
         "14",
         "15",
         "Acme Labortories Ltd. (Herbal Division)",
         "Prostacare",
         "Capsule",
         "Saw Palmetto",
         "002-0007-94"
        ],
        [
         "15",
         "16",
         "Acme Labortories Ltd. (Herbal Division)",
         "Lopid",
         "Capsule",
         "Garlic",
         "002-0008-94"
        ],
        [
         "16",
         "17",
         "Acme Labortories Ltd. (Herbal Division)",
         "Echina",
         "Capsule",
         "Echinacea",
         "002-0009-94"
        ],
        [
         "17",
         "18",
         "Acme Labortories Ltd. (Herbal Division)",
         "Gintonic",
         "Capsule",
         "Ginseng",
         "002-0010-94"
        ],
        [
         "18",
         "19",
         "Acme Labortories Ltd. (Herbal Division)",
         "Gingo 60 mg Capsule",
         "Capsule",
         "Ginkgo",
         "002-015-94"
        ],
        [
         "19",
         "20",
         "Albion Laboratories Limited (Herbal Division)",
         "Silymarin 140",
         "Capsule",
         "Silymarin",
         "041-002-94"
        ],
        [
         "20",
         "21",
         "Albion Laboratories Limited (Herbal Division)",
         "Hervas",
         "Syrup",
         "Basak",
         "041-001-94"
        ],
        [
         "21",
         "22",
         "Alien Pharma (Herbal)",
         "Climac",
         "Capsule",
         "Black Cohosh",
         "022-0001-94"
        ],
        [
         "22",
         "23",
         "Alien Pharma (Herbal)",
         "Bilogin",
         "Capsule",
         "Ginkgo",
         "022-0002-94"
        ],
        [
         "23",
         "24",
         "Alien Pharma (Herbal)",
         "Silyforte",
         "Capsule",
         "Milk Thistle",
         "022-0003-94"
        ],
        [
         "24",
         "25",
         "Alien Pharma (Herbal)",
         "Serena",
         "Capsule",
         "Saw Palmetto",
         "022-0004-94"
        ],
        [
         "25",
         "26",
         "Alien Pharma (Herbal)",
         "Immuna",
         "Capsule",
         "Spirulina",
         "022-0005-94"
        ],
        [
         "26",
         "27",
         "Alien Pharma (Herbal)",
         "Immuna",
         "Capsule",
         "Spirulina",
         "022-0006-94"
        ],
        [
         "27",
         "28",
         "Alien Pharma (Herbal)",
         "Periwort",
         "Capsule",
         "St. John's Wort",
         "022-0007-94"
        ],
        [
         "28",
         "29",
         "Alien Pharma (Herbal)",
         "Bilogin",
         "Tablet",
         "Ginkgo",
         "022-0009-94"
        ],
        [
         "29",
         "30",
         "Alien Pharma (Herbal)",
         "Stedi",
         "Tablet",
         "Stevia Leave Powder",
         "022-0010-94"
        ],
        [
         "30",
         "31",
         "Alien Pharma (Herbal)",
         "Valeforte",
         "Tablet",
         "Valerian",
         "022-0011-94"
        ],
        [
         "31",
         "32",
         "Alien Pharma (Herbal)",
         "Erectil",
         "Tablet",
         "Pausinystalia Yohimbe",
         "022-0012-94"
        ],
        [
         "32",
         "33",
         "Alien Pharma (Herbal)",
         "Stimugin",
         "Capsule",
         "Ginseng",
         "022-0014-94"
        ],
        [
         "33",
         "34",
         "Alien Pharma (Herbal)",
         "Vasika",
         "Syrup",
         "Adhatoda Vasica",
         "022-0015-94"
        ],
        [
         "34",
         "35",
         "Alien Pharma (Herbal)",
         "Silyforte",
         "Syrup",
         "Milk Thistle",
         "022-0013-95"
        ],
        [
         "35",
         "36",
         "Alien Pharma (Herbal)",
         "Stimugin",
         "Syrup",
         "Ginseng",
         "022-008-94"
        ],
        [
         "36",
         "37",
         "Alien Pharma (Herbal)",
         "ENQ",
         "Tablet",
         "Coenzyme Q-10",
         "022-016-94"
        ],
        [
         "37",
         "38",
         "Alien Pharma (Herbal)",
         "Pearlcal",
         "Tablet",
         "Pearlium",
         "022-017-94"
        ],
        [
         "38",
         "39",
         "Alien Pharma (Herbal)",
         "Optivision",
         "Capsule",
         "Lutein (Powder) + Zeaxanthin",
         "022-018-94"
        ],
        [
         "39",
         "40",
         "Alien Pharma (Herbal)",
         "Mucarin",
         "Capsule",
         "Mucuna Pruriens",
         "022-019-94"
        ],
        [
         "40",
         "41",
         "Alien Pharma (Herbal)",
         "Uricalm",
         "Capsule",
         "Cranberry Concentrate Powder",
         "022-020-94"
        ],
        [
         "41",
         "42",
         "Alien Pharma (Herbal)",
         "Bintone",
         "Tablet",
         "Biotin",
         "022-021-94"
        ],
        [
         "42",
         "43",
         "Alien Pharma (Herbal)",
         "Biobust",
         "Tablet",
         "Biotin",
         "022-022-94"
        ],
        [
         "43",
         "44",
         "Alien Pharma (Herbal)",
         "Glutalight",
         "Capsule",
         "L-Glutathione",
         "022-023-94"
        ],
        [
         "44",
         "45",
         "Alien Pharma (Herbal)",
         "Skilighter",
         "Soap Bar",
         "Aloevera + Alpha Arbutin + Kojic Acid + Wheat Germ Oil",
         "022-024-94"
        ],
        [
         "45",
         "46",
         "Alien Pharma (Herbal)",
         "Safe Wash",
         "Mouth Wash",
         "Clove (Liquid)",
         "022-025-94"
        ],
        [
         "46",
         "47",
         "Alien Pharma (Herbal)",
         "Myositol",
         "Tablet",
         "Myo Inositol + Vitex Eagnus Extract",
         "022-026-94"
        ],
        [
         "47",
         "48",
         "Alien Pharma (Herbal)",
         "Cadetar",
         "Soap Bar",
         "Archis Oil + Cade Oil + Coal Tar Oil / Pine Tar Oil",
         "022-027-94"
        ],
        [
         "48",
         "49",
         "Alien Pharma (Herbal)",
         "Fertility",
         "Tablet",
         "Dehydroepiandrosterone",
         "022-028-94"
        ],
        [
         "49",
         "50",
         "Alien Pharma (Herbal)",
         "Prastone",
         "Tablet",
         "Dehydroepiandrosterone",
         "022-029-94"
        ]
       ],
       "shape": {
        "columns": 6,
        "rows": 1028
       }
      },
      "text/html": [
       "<div>\n",
       "<style scoped>\n",
       "    .dataframe tbody tr th:only-of-type {\n",
       "        vertical-align: middle;\n",
       "    }\n",
       "\n",
       "    .dataframe tbody tr th {\n",
       "        vertical-align: top;\n",
       "    }\n",
       "\n",
       "    .dataframe thead th {\n",
       "        text-align: right;\n",
       "    }\n",
       "</style>\n",
       "<table border=\"1\" class=\"dataframe\">\n",
       "  <thead>\n",
       "    <tr style=\"text-align: right;\">\n",
       "      <th></th>\n",
       "      <th>SL</th>\n",
       "      <th>Name of the Manufacturer</th>\n",
       "      <th>Brand Name</th>\n",
       "      <th>Dosages Description</th>\n",
       "      <th>Generic Name and Strength</th>\n",
       "      <th>DAR</th>\n",
       "    </tr>\n",
       "  </thead>\n",
       "  <tbody>\n",
       "    <tr>\n",
       "      <th>0</th>\n",
       "      <td>1</td>\n",
       "      <td>Acme Labortories Ltd. (Herbal Division)</td>\n",
       "      <td>Megajoy 75 Tablet</td>\n",
       "      <td>Tablet</td>\n",
       "      <td>Yohimbine Hydrochloride</td>\n",
       "      <td>002-0011-94</td>\n",
       "    </tr>\n",
       "    <tr>\n",
       "      <th>1</th>\n",
       "      <td>2</td>\n",
       "      <td>Acme Labortories Ltd. (Herbal Division)</td>\n",
       "      <td>Orthogen</td>\n",
       "      <td>Tablet</td>\n",
       "      <td>Boron + Boswellia Serrata Extract + Glucosamin...</td>\n",
       "      <td>002-027-94</td>\n",
       "    </tr>\n",
       "    <tr>\n",
       "      <th>2</th>\n",
       "      <td>3</td>\n",
       "      <td>Acme Labortories Ltd. (Herbal Division)</td>\n",
       "      <td>Disugar</td>\n",
       "      <td>Tablet</td>\n",
       "      <td>Rebaudioside A</td>\n",
       "      <td>002-028-94</td>\n",
       "    </tr>\n",
       "    <tr>\n",
       "      <th>3</th>\n",
       "      <td>4</td>\n",
       "      <td>Acme Labortories Ltd. (Herbal Division)</td>\n",
       "      <td>Moringa</td>\n",
       "      <td>Capsule</td>\n",
       "      <td>Moringa Leaf Powder</td>\n",
       "      <td>002-029-94</td>\n",
       "    </tr>\n",
       "    <tr>\n",
       "      <th>4</th>\n",
       "      <td>5</td>\n",
       "      <td>Acme Labortories Ltd. (Herbal Division)</td>\n",
       "      <td>Platimax</td>\n",
       "      <td>Tablet</td>\n",
       "      <td>Papaya Leaf Extract</td>\n",
       "      <td>002-030-94</td>\n",
       "    </tr>\n",
       "    <tr>\n",
       "      <th>...</th>\n",
       "      <td>...</td>\n",
       "      <td>...</td>\n",
       "      <td>...</td>\n",
       "      <td>...</td>\n",
       "      <td>...</td>\n",
       "      <td>...</td>\n",
       "    </tr>\n",
       "    <tr>\n",
       "      <th>1023</th>\n",
       "      <td>1024</td>\n",
       "      <td>Western Pharmaceuticals (Herbal)</td>\n",
       "      <td>JP-500</td>\n",
       "      <td>Capsule</td>\n",
       "      <td>Aloevera</td>\n",
       "      <td>006-027-94</td>\n",
       "    </tr>\n",
       "    <tr>\n",
       "      <th>1024</th>\n",
       "      <td>1025</td>\n",
       "      <td>Western Pharmaceuticals (Herbal)</td>\n",
       "      <td>Antidant</td>\n",
       "      <td>Capsule</td>\n",
       "      <td>Bee Pollen</td>\n",
       "      <td>006-028-94</td>\n",
       "    </tr>\n",
       "    <tr>\n",
       "      <th>1025</th>\n",
       "      <td>1026</td>\n",
       "      <td>Western Pharmaceuticals (Herbal)</td>\n",
       "      <td>Vitica</td>\n",
       "      <td>Capsule</td>\n",
       "      <td>Biotin</td>\n",
       "      <td>006-006-94</td>\n",
       "    </tr>\n",
       "    <tr>\n",
       "      <th>1026</th>\n",
       "      <td>1027</td>\n",
       "      <td>Western Pharmaceuticals (Herbal)</td>\n",
       "      <td>Clogzy</td>\n",
       "      <td>Capsule</td>\n",
       "      <td>Coenzyme Q-10</td>\n",
       "      <td>006-030-94</td>\n",
       "    </tr>\n",
       "    <tr>\n",
       "      <th>1027</th>\n",
       "      <td>1028</td>\n",
       "      <td>Western Pharmaceuticals (Herbal)</td>\n",
       "      <td>Cholezon</td>\n",
       "      <td>Capsule</td>\n",
       "      <td>Omega 3 Fish Oil</td>\n",
       "      <td>006-031-94</td>\n",
       "    </tr>\n",
       "  </tbody>\n",
       "</table>\n",
       "<p>1028 rows × 6 columns</p>\n",
       "</div>"
      ],
      "text/plain": [
       "        SL                 Name of the Manufacturer         Brand Name  \\\n",
       "0        1  Acme Labortories Ltd. (Herbal Division)  Megajoy 75 Tablet   \n",
       "1        2  Acme Labortories Ltd. (Herbal Division)           Orthogen   \n",
       "2        3  Acme Labortories Ltd. (Herbal Division)            Disugar   \n",
       "3        4  Acme Labortories Ltd. (Herbal Division)            Moringa   \n",
       "4        5  Acme Labortories Ltd. (Herbal Division)           Platimax   \n",
       "...    ...                                      ...                ...   \n",
       "1023  1024         Western Pharmaceuticals (Herbal)             JP-500   \n",
       "1024  1025         Western Pharmaceuticals (Herbal)           Antidant   \n",
       "1025  1026         Western Pharmaceuticals (Herbal)             Vitica   \n",
       "1026  1027         Western Pharmaceuticals (Herbal)             Clogzy   \n",
       "1027  1028         Western Pharmaceuticals (Herbal)           Cholezon   \n",
       "\n",
       "     Dosages Description                          Generic Name and Strength  \\\n",
       "0                 Tablet                            Yohimbine Hydrochloride   \n",
       "1                 Tablet  Boron + Boswellia Serrata Extract + Glucosamin...   \n",
       "2                 Tablet                                     Rebaudioside A   \n",
       "3                Capsule                                Moringa Leaf Powder   \n",
       "4                 Tablet                                Papaya Leaf Extract   \n",
       "...                  ...                                                ...   \n",
       "1023             Capsule                                           Aloevera   \n",
       "1024             Capsule                                         Bee Pollen   \n",
       "1025             Capsule                                             Biotin   \n",
       "1026             Capsule                                      Coenzyme Q-10   \n",
       "1027             Capsule                                   Omega 3 Fish Oil   \n",
       "\n",
       "              DAR  \n",
       "0     002-0011-94  \n",
       "1      002-027-94  \n",
       "2      002-028-94  \n",
       "3      002-029-94  \n",
       "4      002-030-94  \n",
       "...           ...  \n",
       "1023   006-027-94  \n",
       "1024   006-028-94  \n",
       "1025   006-006-94  \n",
       "1026   006-030-94  \n",
       "1027   006-031-94  \n",
       "\n",
       "[1028 rows x 6 columns]"
      ]
     },
     "execution_count": 20,
     "metadata": {},
     "output_type": "execute_result"
    }
   ],
   "source": [
    "Herbal"
   ]
  },
  {
   "cell_type": "code",
   "execution_count": 21,
   "metadata": {},
   "outputs": [
    {
     "data": {
      "application/vnd.microsoft.datawrangler.viewer.v0+json": {
       "columns": [
        {
         "name": "index",
         "rawType": "int64",
         "type": "integer"
        },
        {
         "name": "SL",
         "rawType": "int64",
         "type": "integer"
        },
        {
         "name": "Name of the Manufacturer",
         "rawType": "object",
         "type": "string"
        },
        {
         "name": "Brand Name",
         "rawType": "object",
         "type": "string"
        },
        {
         "name": "Dosages Description",
         "rawType": "object",
         "type": "string"
        },
        {
         "name": "Generic Name and Strength",
         "rawType": "object",
         "type": "string"
        },
        {
         "name": "DAR",
         "rawType": "object",
         "type": "string"
        }
       ],
       "conversionMethod": "pd.DataFrame",
       "ref": "23fa4a6d-5bc0-4649-a5f0-0958e911729d",
       "rows": [
        [
         "0",
         "1",
         "Alif Hoeomo Laboratories",
         "Andrographis Peniculata",
         "Liquid",
         "Andrographis Paniculata",
         "H-66-A-1"
        ],
        [
         "1",
         "2",
         "Alif Hoeomo Laboratories",
         "Hydratis Can.",
         "Liquid",
         "FALSE",
         "H-66-A-2"
        ],
        [
         "2",
         "3",
         "Alif Hoeomo Laboratories",
         "Jonosia Asoka",
         "Liquid",
         "FALSE",
         "H-66-A-3"
        ],
        [
         "3",
         "4",
         "Alif Hoeomo Laboratories",
         "Terminalia Arjuna",
         "Liquid",
         "FALSE",
         "H-66-A-4"
        ],
        [
         "4",
         "5",
         "Alif Hoeomo Laboratories",
         "Carica Papaya",
         "Liquid",
         "FALSE",
         "H-66-A-5"
        ],
        [
         "5",
         "6",
         "Alif Hoeomo Laboratories",
         "Blatta Orientalis",
         "Liquid",
         "FALSE",
         "H-66-A-7"
        ],
        [
         "6",
         "7",
         "Alif Hoeomo Laboratories",
         "Cynodon Daotylon",
         "Liquid",
         "FALSE",
         "H-66-A-8"
        ],
        [
         "7",
         "8",
         "Alif Hoeomo Laboratories",
         "Alstonia Scholaris",
         "Liquid",
         "FALSE",
         "H-66-A-10"
        ],
        [
         "8",
         "9",
         "Alif Hoeomo Laboratories",
         "Avena Sativa",
         "Liquid",
         "FALSE",
         "H-66-A-11"
        ],
        [
         "9",
         "10",
         "Alif Hoeomo Laboratories",
         "Nux Vomica",
         "Liquid",
         "FALSE",
         "H-66-A-12"
        ],
        [
         "10",
         "11",
         "Alif Hoeomo Laboratories",
         "Cinchona Officinalis",
         "Liquid",
         "FALSE",
         "H-66-A-13"
        ],
        [
         "11",
         "12",
         "Alif Hoeomo Laboratories",
         "Rhus Tox",
         "Liquid",
         "FALSE",
         "H-66-A-14"
        ],
        [
         "12",
         "13",
         "Alif Hoeomo Laboratories",
         "Medicago Sativa",
         "Liquid",
         "FALSE",
         "H-66-A-15"
        ],
        [
         "13",
         "14",
         "Alif Hoeomo Laboratories",
         "Ceanothus Americanus",
         "Liquid",
         "Ceanothus Americanus",
         "H-66-A-16"
        ],
        [
         "14",
         "15",
         "Alif Hoeomo Laboratories",
         "Atista Radix",
         "Liquid",
         "FALSE",
         "H-66-A-17"
        ],
        [
         "15",
         "16",
         "Alif Hoeomo Laboratories",
         "Artemisia Abrotanum",
         "Liquid",
         "Artemisia Abrotanum",
         "H-66-A-18"
        ],
        [
         "16",
         "17",
         "Alif Hoeomo Laboratories",
         "Cantharis",
         "Liquid",
         "FALSE",
         "H-66-A-19"
        ],
        [
         "17",
         "18",
         "Alif Hoeomo Laboratories",
         "Belladonna",
         "Liquid",
         "FALSE",
         "H-66-A-20"
        ],
        [
         "18",
         "19",
         "Alif Hoeomo Laboratories",
         "Lycopodium Clavatum",
         "Liquid",
         "FALSE",
         "H-66-A-21"
        ],
        [
         "19",
         "20",
         "Alif Hoeomo Laboratories",
         "Chelidonium Majus",
         "Liquid",
         "FALSE",
         "H-66-A-22"
        ],
        [
         "20",
         "21",
         "Alif Hoeomo Laboratories",
         "Calendula Oddicinalis",
         "Liquid",
         "FALSE",
         "H-66-A-23"
        ],
        [
         "21",
         "22",
         "Alif Hoeomo Laboratories",
         "Cina",
         "Liquid",
         "FALSE",
         "H-66-A-24"
        ],
        [
         "22",
         "23",
         "Alif Hoeomo Laboratories",
         "Berberis Vulgaris",
         "Liquid",
         "FALSE",
         "H-66-A-25"
        ],
        [
         "23",
         "24",
         "Alif Hoeomo Laboratories",
         "Krerosote",
         "Liquid",
         "Kreosote",
         "H-66-A-26"
        ],
        [
         "24",
         "25",
         "Alif Hoeomo Laboratories",
         "Secale Cornutum",
         "Liquid",
         "FALSE",
         "H-66-A-27"
        ],
        [
         "25",
         "26",
         "Alif Hoeomo Laboratories",
         "Aralia Quinquefolif",
         "Liquid",
         "Aralia Quinquefolif",
         "H-66-A-28"
        ],
        [
         "26",
         "27",
         "Alif Hoeomo Laboratories",
         "Apis Mellifica",
         "Liquid",
         "FALSE",
         "H-66-A-29"
        ],
        [
         "27",
         "28",
         "Alif Hoeomo Laboratories",
         "Eriodictyon Glutinosum",
         "Liquid",
         "Eriodictyon Glutinosum",
         "H-66-A-30"
        ],
        [
         "28",
         "29",
         "Alif Hoeomo Laboratories",
         "Embelica Officinalis",
         "Liquid",
         "Embelica Officinalis 3X",
         "H-66-A-6"
        ],
        [
         "29",
         "30",
         "Allen MXN Homoeo Laboratory",
         "Calcarea Phosphorica",
         "Tablet",
         "Calcarea Phosphorica",
         "H-47-A-18"
        ],
        [
         "30",
         "31",
         "Allen MXN Homoeo Laboratory",
         "Kali Phosphoricum",
         "Tablet",
         "Kali Phosphoricum",
         "H-47-A-19"
        ],
        [
         "31",
         "32",
         "Allen MXN Homoeo Laboratory",
         "Magnesium Phosphoricum",
         "Tablet",
         "Magnesium Phosphoricum",
         "H-47-A-20"
        ],
        [
         "32",
         "33",
         "Allen MXN Homoeo Laboratory",
         "Amloki",
         "Liquid",
         "FALSE",
         "H-47-A-26"
        ],
        [
         "33",
         "34",
         "Allen MXN Homoeo Laboratory",
         "Santonine",
         "Tablet",
         "Santonine 1X",
         "H-47-A-27"
        ],
        [
         "34",
         "35",
         "Allen MXN Homoeo Laboratory",
         "Zincum Phosphoricum",
         "Tablet",
         "Zincum Phosphoricum",
         "H-47-A-28"
        ],
        [
         "35",
         "36",
         "Allen MXN Homoeo Laboratory",
         "Acidum Citricum",
         "Tablet",
         "Acidum Citricum",
         "H-47-A-29"
        ],
        [
         "36",
         "37",
         "Allen MXN Homoeo Laboratory",
         "Nux Vomica",
         "Liquid",
         "FALSE",
         "H-47-A-30"
        ],
        [
         "37",
         "38",
         "Allen MXN Homoeo Laboratory",
         "Acidum Phosphoricum",
         "Liquid",
         "Acidum Phosphoricum 1X",
         "H-47-A-31"
        ],
        [
         "38",
         "39",
         "Allen MXN Homoeo Laboratory",
         "Magnesium Carbonate",
         "Tablet",
         "Magnesium Carbonate 1X",
         "H-47-A-32"
        ],
        [
         "39",
         "40",
         "Allen MXN Homoeo Laboratory",
         "Terminalia Chebula",
         "Liquid",
         "Terminalia Chebula (Haritaki)",
         "H-47-A-33"
        ],
        [
         "40",
         "41",
         "Allen MXN Homoeo Laboratory",
         "Acidum Benzoicum",
         "Liquid",
         "Acid Benzoic",
         "H-47-A-34"
        ],
        [
         "41",
         "42",
         "Allen MXN Homoeo Laboratory",
         "Borax",
         "Tablet",
         "FALSE",
         "H-47-A-36"
        ],
        [
         "42",
         "43",
         "Allen MXN Homoeo Laboratory",
         "Asoka",
         "Liquid",
         "FALSE",
         "H-47-A-37"
        ],
        [
         "43",
         "44",
         "Allen MXN Homoeo Laboratory",
         "Cinnamomum",
         "Liquid",
         "FALSE",
         "H-47-A-38"
        ],
        [
         "44",
         "45",
         "Allen MXN Homoeo Laboratory",
         "Kalamegh",
         "Liquid",
         "FALSE",
         "H-47-A-39"
        ],
        [
         "45",
         "46",
         "Allen MXN Homoeo Laboratory",
         "Calcarea Carbonica",
         "Tablet",
         "Calcarea Carb",
         "H-47-A-40"
        ],
        [
         "46",
         "47",
         "Amiba Homoeo Laboratory",
         "Agnus Cast",
         "Liquid",
         "FALSE",
         "H-70-A-1"
        ],
        [
         "47",
         "48",
         "Amiba Homoeo Laboratory",
         "Pulsatilla",
         "Liquid",
         "FALSE",
         "H-70-A-2"
        ],
        [
         "48",
         "49",
         "Amiba Homoeo Laboratory",
         "Nux Vomica",
         "Liquid",
         "FALSE",
         "H-70-A-3"
        ],
        [
         "49",
         "50",
         "Amiba Homoeo Laboratory",
         "Jonosia Asoka",
         "Liquid",
         "FALSE",
         "H-70-A-4"
        ]
       ],
       "shape": {
        "columns": 6,
        "rows": 2580
       }
      },
      "text/html": [
       "<div>\n",
       "<style scoped>\n",
       "    .dataframe tbody tr th:only-of-type {\n",
       "        vertical-align: middle;\n",
       "    }\n",
       "\n",
       "    .dataframe tbody tr th {\n",
       "        vertical-align: top;\n",
       "    }\n",
       "\n",
       "    .dataframe thead th {\n",
       "        text-align: right;\n",
       "    }\n",
       "</style>\n",
       "<table border=\"1\" class=\"dataframe\">\n",
       "  <thead>\n",
       "    <tr style=\"text-align: right;\">\n",
       "      <th></th>\n",
       "      <th>SL</th>\n",
       "      <th>Name of the Manufacturer</th>\n",
       "      <th>Brand Name</th>\n",
       "      <th>Dosages Description</th>\n",
       "      <th>Generic Name and Strength</th>\n",
       "      <th>DAR</th>\n",
       "    </tr>\n",
       "  </thead>\n",
       "  <tbody>\n",
       "    <tr>\n",
       "      <th>0</th>\n",
       "      <td>1</td>\n",
       "      <td>Alif Hoeomo Laboratories</td>\n",
       "      <td>Andrographis Peniculata</td>\n",
       "      <td>Liquid</td>\n",
       "      <td>Andrographis Paniculata</td>\n",
       "      <td>H-66-A-1</td>\n",
       "    </tr>\n",
       "    <tr>\n",
       "      <th>1</th>\n",
       "      <td>2</td>\n",
       "      <td>Alif Hoeomo Laboratories</td>\n",
       "      <td>Hydratis Can.</td>\n",
       "      <td>Liquid</td>\n",
       "      <td>FALSE</td>\n",
       "      <td>H-66-A-2</td>\n",
       "    </tr>\n",
       "    <tr>\n",
       "      <th>2</th>\n",
       "      <td>3</td>\n",
       "      <td>Alif Hoeomo Laboratories</td>\n",
       "      <td>Jonosia Asoka</td>\n",
       "      <td>Liquid</td>\n",
       "      <td>FALSE</td>\n",
       "      <td>H-66-A-3</td>\n",
       "    </tr>\n",
       "    <tr>\n",
       "      <th>3</th>\n",
       "      <td>4</td>\n",
       "      <td>Alif Hoeomo Laboratories</td>\n",
       "      <td>Terminalia Arjuna</td>\n",
       "      <td>Liquid</td>\n",
       "      <td>FALSE</td>\n",
       "      <td>H-66-A-4</td>\n",
       "    </tr>\n",
       "    <tr>\n",
       "      <th>4</th>\n",
       "      <td>5</td>\n",
       "      <td>Alif Hoeomo Laboratories</td>\n",
       "      <td>Carica Papaya</td>\n",
       "      <td>Liquid</td>\n",
       "      <td>FALSE</td>\n",
       "      <td>H-66-A-5</td>\n",
       "    </tr>\n",
       "    <tr>\n",
       "      <th>...</th>\n",
       "      <td>...</td>\n",
       "      <td>...</td>\n",
       "      <td>...</td>\n",
       "      <td>...</td>\n",
       "      <td>...</td>\n",
       "      <td>...</td>\n",
       "    </tr>\n",
       "    <tr>\n",
       "      <th>2575</th>\n",
       "      <td>2576</td>\n",
       "      <td>Zoha Homoeo Pharmaceutical Laboratories</td>\n",
       "      <td>Bio-Pla-Z-25</td>\n",
       "      <td>Tablet</td>\n",
       "      <td>Nat Phos 3X + Nat Sulph 3X + Silica 12X</td>\n",
       "      <td>H-2-A-190</td>\n",
       "    </tr>\n",
       "    <tr>\n",
       "      <th>2576</th>\n",
       "      <td>2577</td>\n",
       "      <td>Zoha Homoeo Pharmaceutical Laboratories</td>\n",
       "      <td>Bio-Pla-Z-26</td>\n",
       "      <td>Tablet</td>\n",
       "      <td>Cal Phos 3X + Calcaria Fluorica 3X + Kali Phos...</td>\n",
       "      <td>H-2-A-191</td>\n",
       "    </tr>\n",
       "    <tr>\n",
       "      <th>2577</th>\n",
       "      <td>2578</td>\n",
       "      <td>Zoha Homoeo Pharmaceutical Laboratories</td>\n",
       "      <td>Bio-Pla-Z-27</td>\n",
       "      <td>Tablet</td>\n",
       "      <td>Cal Phos 3X + Kali Phos 3X + Nat Mur 3X</td>\n",
       "      <td>H-2-A-192</td>\n",
       "    </tr>\n",
       "    <tr>\n",
       "      <th>2578</th>\n",
       "      <td>2579</td>\n",
       "      <td>Zoha Homoeo Pharmaceutical Laboratories</td>\n",
       "      <td>Bio-Pla-Z-28</td>\n",
       "      <td>Tablet</td>\n",
       "      <td>Cal Phos 3X + Cal sulph. 3x + Calcaria Fluoric...</td>\n",
       "      <td>H-2-A-193</td>\n",
       "    </tr>\n",
       "    <tr>\n",
       "      <th>2579</th>\n",
       "      <td>2580</td>\n",
       "      <td>Zoha Homoeo Pharmaceutical Laboratories</td>\n",
       "      <td>Alfagin</td>\n",
       "      <td>Liquid</td>\n",
       "      <td>FALSE</td>\n",
       "      <td>H-2-A-156</td>\n",
       "    </tr>\n",
       "  </tbody>\n",
       "</table>\n",
       "<p>2580 rows × 6 columns</p>\n",
       "</div>"
      ],
      "text/plain": [
       "        SL                 Name of the Manufacturer               Brand Name  \\\n",
       "0        1                 Alif Hoeomo Laboratories  Andrographis Peniculata   \n",
       "1        2                 Alif Hoeomo Laboratories            Hydratis Can.   \n",
       "2        3                 Alif Hoeomo Laboratories            Jonosia Asoka   \n",
       "3        4                 Alif Hoeomo Laboratories        Terminalia Arjuna   \n",
       "4        5                 Alif Hoeomo Laboratories            Carica Papaya   \n",
       "...    ...                                      ...                      ...   \n",
       "2575  2576  Zoha Homoeo Pharmaceutical Laboratories             Bio-Pla-Z-25   \n",
       "2576  2577  Zoha Homoeo Pharmaceutical Laboratories             Bio-Pla-Z-26   \n",
       "2577  2578  Zoha Homoeo Pharmaceutical Laboratories             Bio-Pla-Z-27   \n",
       "2578  2579  Zoha Homoeo Pharmaceutical Laboratories             Bio-Pla-Z-28   \n",
       "2579  2580  Zoha Homoeo Pharmaceutical Laboratories                  Alfagin   \n",
       "\n",
       "     Dosages Description                          Generic Name and Strength  \\\n",
       "0                 Liquid                            Andrographis Paniculata   \n",
       "1                 Liquid                                              FALSE   \n",
       "2                 Liquid                                              FALSE   \n",
       "3                 Liquid                                              FALSE   \n",
       "4                 Liquid                                              FALSE   \n",
       "...                  ...                                                ...   \n",
       "2575              Tablet            Nat Phos 3X + Nat Sulph 3X + Silica 12X   \n",
       "2576              Tablet  Cal Phos 3X + Calcaria Fluorica 3X + Kali Phos...   \n",
       "2577              Tablet            Cal Phos 3X + Kali Phos 3X + Nat Mur 3X   \n",
       "2578              Tablet  Cal Phos 3X + Cal sulph. 3x + Calcaria Fluoric...   \n",
       "2579              Liquid                                              FALSE   \n",
       "\n",
       "            DAR  \n",
       "0      H-66-A-1  \n",
       "1      H-66-A-2  \n",
       "2      H-66-A-3  \n",
       "3      H-66-A-4  \n",
       "4      H-66-A-5  \n",
       "...         ...  \n",
       "2575  H-2-A-190  \n",
       "2576  H-2-A-191  \n",
       "2577  H-2-A-192  \n",
       "2578  H-2-A-193  \n",
       "2579  H-2-A-156  \n",
       "\n",
       "[2580 rows x 6 columns]"
      ]
     },
     "execution_count": 21,
     "metadata": {},
     "output_type": "execute_result"
    }
   ],
   "source": [
    "Homeopathic"
   ]
  },
  {
   "cell_type": "code",
   "execution_count": 22,
   "metadata": {},
   "outputs": [
    {
     "data": {
      "application/vnd.microsoft.datawrangler.viewer.v0+json": {
       "columns": [
        {
         "name": "index",
         "rawType": "int64",
         "type": "integer"
        },
        {
         "name": "SL",
         "rawType": "int64",
         "type": "integer"
        },
        {
         "name": "Name of the Manufacturer",
         "rawType": "object",
         "type": "string"
        },
        {
         "name": "Brand Name",
         "rawType": "object",
         "type": "string"
        },
        {
         "name": "Dosages Description",
         "rawType": "object",
         "type": "string"
        },
        {
         "name": "Generic Name and Strength",
         "rawType": "object",
         "type": "string"
        },
        {
         "name": "DAR",
         "rawType": "object",
         "type": "string"
        }
       ],
       "conversionMethod": "pd.DataFrame",
       "ref": "36bae1cc-f266-43bb-8625-2d65d4aa436e",
       "rows": [
        [
         "0",
         "1",
         "4-S Labaratories (Unani)",
         "Sharbat Amrood",
         "Liquid",
         "Sharbat Amrood",
         "U-297-A-034"
        ],
        [
         "1",
         "2",
         "4-S Labaratories (Unani)",
         "Sharbat Ejaz",
         "Liquid",
         "Sharbat Ejaz",
         "U-297-A-035"
        ],
        [
         "2",
         "3",
         "4-S Labaratories (Unani)",
         "Sharbat Buzuri",
         "Liquid",
         "Sharbat Buzuri",
         "U-297-A-036"
        ],
        [
         "3",
         "4",
         "4-S Labaratories (Unani)",
         "Qurs Niswani",
         "Tablet",
         "Qurs Niswani",
         "U-297-A-037"
        ],
        [
         "4",
         "5",
         "4-S Labaratories (Unani)",
         "Qurs Bandish",
         "Capsule",
         "Qurs Bandish",
         "U-297-A-038"
        ],
        [
         "5",
         "6",
         "4-S Labaratories (Unani)",
         "Qurs Asfar",
         "Capsule",
         "Qurs Asfar",
         "U-297-A-039"
        ],
        [
         "6",
         "7",
         "4-S Labaratories (Unani)",
         "Habbe Hayateen Murakkab",
         "Tablet",
         "Habb-e Hayaeen Murakkab",
         "U-297-A-040"
        ],
        [
         "7",
         "8",
         "4-S Labaratories (Unani)",
         "Habbe Hayateen Murakkab Jaw",
         "Tablet",
         "Habb-e Hayateen Murakkab Jawahirdar",
         "U-297-A-041"
        ],
        [
         "8",
         "9",
         "4-S Labaratories (Unani)",
         "Brewers Yeast",
         "Capsule",
         "Brewers Yeast",
         "U-297-A-042"
        ],
        [
         "9",
         "10",
         "4-S Labaratories (Unani)",
         "Gokkur",
         "Capsule",
         "Puncture Vine",
         "U-297-A-043"
        ],
        [
         "10",
         "11",
         "4-S Labaratories (Unani)",
         "Harbikof",
         "Liquid",
         "Sharbat Tulsi",
         "U-20-A-001"
        ],
        [
         "11",
         "12",
         "4-S Labaratories (Unani)",
         "Hazmi-S",
         "Liquid",
         "Sharbat Hazmina",
         "U-20-A-002"
        ],
        [
         "12",
         "13",
         "4-S Labaratories (Unani)",
         "Leucobin",
         "Liquid",
         "Sharbat Niswan",
         "U-20-A-003"
        ],
        [
         "13",
         "14",
         "4-S Labaratories (Unani)",
         "Hemoplus",
         "Liquid",
         "Sharbat Faulad",
         "U-20-A-004"
        ],
        [
         "14",
         "15",
         "4-S Labaratories (Unani)",
         "Bilicon",
         "Liquid",
         "Sharbat Chylosin",
         "U-20-A-005"
        ],
        [
         "15",
         "16",
         "4-S Labaratories (Unani)",
         "Jinsin-S",
         "Liquid",
         "Sharbat Jinsin",
         "U-20-A-006"
        ],
        [
         "16",
         "17",
         "4-S Labaratories (Unani)",
         "Sebton",
         "Liquid",
         "Sharbat Seb",
         "U-20-A-007"
        ],
        [
         "17",
         "18",
         "4-S Labaratories (Unani)",
         "Hemosaf",
         "Liquid",
         "Sharbat Musaffi",
         "U-20-A-008"
        ],
        [
         "18",
         "19",
         "4-S Labaratories (Unani)",
         "Neogut",
         "Liquid",
         "Sharbat Atfal",
         "U-20-A-009"
        ],
        [
         "19",
         "20",
         "4-S Labaratories (Unani)",
         "Crodis",
         "Liquid",
         "Sharbat Kurchi",
         "U-20-A-010"
        ],
        [
         "20",
         "21",
         "4-S Labaratories (Unani)",
         "Ex-V",
         "Capsule",
         "Habb-e Ambar Momiyaee",
         "U-20-A-011"
        ],
        [
         "21",
         "22",
         "4-S Labaratories (Unani)",
         "Jointis",
         "Capsule",
         "Qurs Awja",
         "U-20-A-013"
        ],
        [
         "22",
         "23",
         "4-S Labaratories (Unani)",
         "Strayon",
         "Capsule",
         "Habb-e Ambari",
         "U-20-A-014"
        ],
        [
         "23",
         "24",
         "4-S Labaratories (Unani)",
         "Harbitis",
         "Tablet",
         "Qurs Ziabit",
         "U-20-A-015"
        ],
        [
         "24",
         "25",
         "4-S Labaratories (Unani)",
         "Hazmi-S",
         "Tablet",
         "Qurs Hazmina",
         "U-20-A-016"
        ],
        [
         "25",
         "26",
         "4-S Labaratories (Unani)",
         "Harbolax",
         "Tablet",
         "Qurs Mulayin",
         "U-20-A-017"
        ],
        [
         "26",
         "27",
         "4-S Labaratories (Unani)",
         "Orthotin",
         "Tablet",
         "Kushta Khare Mohra",
         "U-297-A-018"
        ],
        [
         "27",
         "28",
         "4-S Labaratories (Unani)",
         "Caretin-S",
         "Liquid",
         "Sharbat Samarat",
         "U-297-A-019"
        ],
        [
         "28",
         "29",
         "4-S Labaratories (Unani)",
         "Zinoron-S",
         "Capsule",
         "Qurs Faulad",
         "U-297-A-020"
        ],
        [
         "29",
         "30",
         "4-S Labaratories (Unani)",
         "Enerbin",
         "Capsule",
         "Habb-e Asabin",
         "U-297-A-021"
        ],
        [
         "30",
         "31",
         "4-S Labaratories (Unani)",
         "Rheucol",
         "Capsule",
         "Habb-e Suranjan",
         "U-297-A-022"
        ],
        [
         "31",
         "32",
         "4-S Labaratories (Unani)",
         "4-Cid",
         "Powder",
         "Sufoof Mundamil",
         "U-297-A-023"
        ],
        [
         "32",
         "33",
         "4-S Labaratories (Unani)",
         "Flucea",
         "Capsule",
         "Echinacea",
         "U-297-A-024"
        ],
        [
         "33",
         "34",
         "4-S Labaratories (Unani)",
         "Ezolax",
         "Powder",
         "Ispaghula Husk",
         "U-297-A-025"
        ],
        [
         "34",
         "35",
         "4-S Labaratories (Unani)",
         "Kavagen",
         "Capsule",
         "Kava Kava",
         "U-297-A-026"
        ],
        [
         "35",
         "36",
         "4-S Labaratories (Unani)",
         "Ginobil",
         "Capsule",
         "Ginkgo Biloba 120 mg",
         "U-297-A-027"
        ],
        [
         "36",
         "37",
         "4-S Labaratories (Unani)",
         "Oviset",
         "Capsule",
         "Black Cohosh",
         "U-297-A-028"
        ],
        [
         "37",
         "38",
         "4-S Labaratories (Unani)",
         "Leaf kof",
         "Liquid",
         "Sharbat Vasac",
         "U-297-A-029"
        ],
        [
         "38",
         "39",
         "4-S Labaratories (Unani)",
         "Sylwel",
         "Capsule",
         "Milk Thistle 140 mg",
         "U-297-A-030"
        ],
        [
         "39",
         "40",
         "4-S Labaratories (Unani)",
         "S-Pal",
         "Capsule",
         "Saw Palmetto 160 mg",
         "U-297-A-031"
        ],
        [
         "40",
         "41",
         "4-S Labaratories (Unani)",
         "Imuline",
         "Capsule",
         "Spirulina",
         "U-297-A-032"
        ],
        [
         "41",
         "42",
         "4-S Labaratories (Unani)",
         "Veribon",
         "Capsule",
         "Horsetail",
         "U-297-A-033"
        ],
        [
         "42",
         "43",
         "A. H. Janokallay Pharmaceuticals (Unani)",
         "Karmolin",
         "Liquid",
         "Arq Nankha",
         "U-114-A-001"
        ],
        [
         "43",
         "44",
         "A. H. Janokallay Pharmaceuticals (Unani)",
         "Hematin",
         "Liquid",
         "Sharbat Faulad",
         "U-114-A-002"
        ],
        [
         "44",
         "45",
         "A. H. Janokallay Pharmaceuticals (Unani)",
         "Hepazin",
         "Liquid",
         "Sharbat Deenar",
         "U-114-A-003"
        ],
        [
         "45",
         "46",
         "A. H. Janokallay Pharmaceuticals (Unani)",
         "Renaton",
         "Liquid",
         "Sharbat Buzuri",
         "U-114-A-004"
        ],
        [
         "46",
         "47",
         "A. H. Janokallay Pharmaceuticals (Unani)",
         "Sharbat Santara",
         "Liquid",
         "Sharbat Santara",
         "U-114-A-005"
        ],
        [
         "47",
         "48",
         "A. H. Janokallay Pharmaceuticals (Unani)",
         "Sharbat Gauzaban",
         "Liquid",
         "Sharbat Gaozaban",
         "U-114-A-006"
        ],
        [
         "48",
         "49",
         "A. H. Janokallay Pharmaceuticals (Unani)",
         "Vitolin",
         "Liquid",
         "Sharbat Seb",
         "U-114-A-007"
        ],
        [
         "49",
         "50",
         "A. H. Janokallay Pharmaceuticals (Unani)",
         "Majoon Famalsafa",
         "Semi-Solid",
         "Majoon Falasefa",
         "U-114-A-008"
        ]
       ],
       "shape": {
        "columns": 6,
        "rows": 8460
       }
      },
      "text/html": [
       "<div>\n",
       "<style scoped>\n",
       "    .dataframe tbody tr th:only-of-type {\n",
       "        vertical-align: middle;\n",
       "    }\n",
       "\n",
       "    .dataframe tbody tr th {\n",
       "        vertical-align: top;\n",
       "    }\n",
       "\n",
       "    .dataframe thead th {\n",
       "        text-align: right;\n",
       "    }\n",
       "</style>\n",
       "<table border=\"1\" class=\"dataframe\">\n",
       "  <thead>\n",
       "    <tr style=\"text-align: right;\">\n",
       "      <th></th>\n",
       "      <th>SL</th>\n",
       "      <th>Name of the Manufacturer</th>\n",
       "      <th>Brand Name</th>\n",
       "      <th>Dosages Description</th>\n",
       "      <th>Generic Name and Strength</th>\n",
       "      <th>DAR</th>\n",
       "    </tr>\n",
       "  </thead>\n",
       "  <tbody>\n",
       "    <tr>\n",
       "      <th>0</th>\n",
       "      <td>1</td>\n",
       "      <td>4-S Labaratories (Unani)</td>\n",
       "      <td>Sharbat Amrood</td>\n",
       "      <td>Liquid</td>\n",
       "      <td>Sharbat Amrood</td>\n",
       "      <td>U-297-A-034</td>\n",
       "    </tr>\n",
       "    <tr>\n",
       "      <th>1</th>\n",
       "      <td>2</td>\n",
       "      <td>4-S Labaratories (Unani)</td>\n",
       "      <td>Sharbat Ejaz</td>\n",
       "      <td>Liquid</td>\n",
       "      <td>Sharbat Ejaz</td>\n",
       "      <td>U-297-A-035</td>\n",
       "    </tr>\n",
       "    <tr>\n",
       "      <th>2</th>\n",
       "      <td>3</td>\n",
       "      <td>4-S Labaratories (Unani)</td>\n",
       "      <td>Sharbat Buzuri</td>\n",
       "      <td>Liquid</td>\n",
       "      <td>Sharbat Buzuri</td>\n",
       "      <td>U-297-A-036</td>\n",
       "    </tr>\n",
       "    <tr>\n",
       "      <th>3</th>\n",
       "      <td>4</td>\n",
       "      <td>4-S Labaratories (Unani)</td>\n",
       "      <td>Qurs Niswani</td>\n",
       "      <td>Tablet</td>\n",
       "      <td>Qurs Niswani</td>\n",
       "      <td>U-297-A-037</td>\n",
       "    </tr>\n",
       "    <tr>\n",
       "      <th>4</th>\n",
       "      <td>5</td>\n",
       "      <td>4-S Labaratories (Unani)</td>\n",
       "      <td>Qurs Bandish</td>\n",
       "      <td>Capsule</td>\n",
       "      <td>Qurs Bandish</td>\n",
       "      <td>U-297-A-038</td>\n",
       "    </tr>\n",
       "    <tr>\n",
       "      <th>...</th>\n",
       "      <td>...</td>\n",
       "      <td>...</td>\n",
       "      <td>...</td>\n",
       "      <td>...</td>\n",
       "      <td>...</td>\n",
       "      <td>...</td>\n",
       "    </tr>\n",
       "    <tr>\n",
       "      <th>8455</th>\n",
       "      <td>8456</td>\n",
       "      <td>Zentiva Natural Science BD (Unani)\\t</td>\n",
       "      <td>Feresul</td>\n",
       "      <td>Liquid</td>\n",
       "      <td>Sharbat Faulad</td>\n",
       "      <td>U-39-A-002</td>\n",
       "    </tr>\n",
       "    <tr>\n",
       "      <th>8456</th>\n",
       "      <td>8457</td>\n",
       "      <td>Zentiva Natural Science BD (Unani)\\t</td>\n",
       "      <td>Sharbat Buzuri</td>\n",
       "      <td>Liquid</td>\n",
       "      <td>Sharbat Buzuri</td>\n",
       "      <td>U-39-A-004</td>\n",
       "    </tr>\n",
       "    <tr>\n",
       "      <th>8457</th>\n",
       "      <td>8458</td>\n",
       "      <td>Zentiva Natural Science BD (Unani)\\t</td>\n",
       "      <td>Sharbat Ejaz</td>\n",
       "      <td>Liquid</td>\n",
       "      <td>Sharbat Ejaz</td>\n",
       "      <td>U-39-A-005</td>\n",
       "    </tr>\n",
       "    <tr>\n",
       "      <th>8458</th>\n",
       "      <td>8459</td>\n",
       "      <td>Zentiva Natural Science BD (Unani)\\t</td>\n",
       "      <td>Sharbat Misali</td>\n",
       "      <td>Liquid</td>\n",
       "      <td>Sharbat Misali</td>\n",
       "      <td>U-39-A-007</td>\n",
       "    </tr>\n",
       "    <tr>\n",
       "      <th>8459</th>\n",
       "      <td>8460</td>\n",
       "      <td>Zentiva Natural Science BD (Unani)\\t</td>\n",
       "      <td>Sharbat Karmina</td>\n",
       "      <td>Liquid</td>\n",
       "      <td>Sharbat Karmina</td>\n",
       "      <td>U-39-A-008</td>\n",
       "    </tr>\n",
       "  </tbody>\n",
       "</table>\n",
       "<p>8460 rows × 6 columns</p>\n",
       "</div>"
      ],
      "text/plain": [
       "        SL              Name of the Manufacturer       Brand Name  \\\n",
       "0        1              4-S Labaratories (Unani)   Sharbat Amrood   \n",
       "1        2              4-S Labaratories (Unani)     Sharbat Ejaz   \n",
       "2        3              4-S Labaratories (Unani)   Sharbat Buzuri   \n",
       "3        4              4-S Labaratories (Unani)     Qurs Niswani   \n",
       "4        5              4-S Labaratories (Unani)     Qurs Bandish   \n",
       "...    ...                                   ...              ...   \n",
       "8455  8456  Zentiva Natural Science BD (Unani)\\t          Feresul   \n",
       "8456  8457  Zentiva Natural Science BD (Unani)\\t   Sharbat Buzuri   \n",
       "8457  8458  Zentiva Natural Science BD (Unani)\\t     Sharbat Ejaz   \n",
       "8458  8459  Zentiva Natural Science BD (Unani)\\t   Sharbat Misali   \n",
       "8459  8460  Zentiva Natural Science BD (Unani)\\t  Sharbat Karmina   \n",
       "\n",
       "     Dosages Description Generic Name and Strength          DAR  \n",
       "0                 Liquid            Sharbat Amrood  U-297-A-034  \n",
       "1                 Liquid              Sharbat Ejaz  U-297-A-035  \n",
       "2                 Liquid            Sharbat Buzuri  U-297-A-036  \n",
       "3                 Tablet              Qurs Niswani  U-297-A-037  \n",
       "4                Capsule              Qurs Bandish  U-297-A-038  \n",
       "...                  ...                       ...          ...  \n",
       "8455              Liquid            Sharbat Faulad   U-39-A-002  \n",
       "8456              Liquid            Sharbat Buzuri   U-39-A-004  \n",
       "8457              Liquid              Sharbat Ejaz   U-39-A-005  \n",
       "8458              Liquid            Sharbat Misali   U-39-A-007  \n",
       "8459              Liquid           Sharbat Karmina   U-39-A-008  \n",
       "\n",
       "[8460 rows x 6 columns]"
      ]
     },
     "execution_count": 22,
     "metadata": {},
     "output_type": "execute_result"
    }
   ],
   "source": [
    "Unani"
   ]
  }
 ],
 "metadata": {
  "kernelspec": {
   "display_name": "base",
   "language": "python",
   "name": "python3"
  },
  "language_info": {
   "codemirror_mode": {
    "name": "ipython",
    "version": 3
   },
   "file_extension": ".py",
   "mimetype": "text/x-python",
   "name": "python",
   "nbconvert_exporter": "python",
   "pygments_lexer": "ipython3",
   "version": "3.9.19"
  }
 },
 "nbformat": 4,
 "nbformat_minor": 2
}
